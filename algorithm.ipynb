{
 "cells": [
  {
   "cell_type": "code",
   "execution_count": 36,
   "metadata": {},
   "outputs": [],
   "source": [
    "import numpy as np\n",
    "from scipy import ndimage, misc\n",
    "import copy\n",
    "\n",
    "from deap import base\n",
    "from deap import creator\n",
    "from deap import tools\n",
    "import game\n"
   ]
  },
  {
   "cell_type": "code",
   "execution_count": 2,
   "metadata": {},
   "outputs": [],
   "source": [
    "n_weights = 9\n",
    "population_size = 10\n",
    "print_options = 1"
   ]
  },
  {
   "cell_type": "code",
   "execution_count": 6,
   "metadata": {},
   "outputs": [
    {
     "name": "stderr",
     "output_type": "stream",
     "text": [
      "/opt/anaconda3/envs/ML2/lib/python3.5/site-packages/deap/creator.py:141: RuntimeWarning: A class named 'FitnessMin' has already been created and it will be overwritten. Consider deleting previous creation of that class or rename it.\n",
      "  RuntimeWarning)\n",
      "/opt/anaconda3/envs/ML2/lib/python3.5/site-packages/deap/creator.py:141: RuntimeWarning: A class named 'GameInstance' has already been created and it will be overwritten. Consider deleting previous creation of that class or rename it.\n",
      "  RuntimeWarning)\n",
      "/opt/anaconda3/envs/ML2/lib/python3.5/site-packages/deap/creator.py:141: RuntimeWarning: A class named 'Individual' has already been created and it will be overwritten. Consider deleting previous creation of that class or rename it.\n",
      "  RuntimeWarning)\n"
     ]
    }
   ],
   "source": [
    "''' DEAP SETUP '''\n",
    "creator.create(\"FitnessMin\", base.Fitness, weights=(-1.0,))\n",
    "creator.create(\"GameInstance\", game.Game)\n",
    "creator.create(\"Individual\", list, \n",
    "                fitness=creator.FitnessMin, \n",
    "                gameInstance=creator.GameInstance)\n",
    "\n",
    "toolbox = base.Toolbox()\n",
    "toolbox.register(\"attr_bool\", np.random.uniform, 0, 1)\n",
    "toolbox.register(\"individual\", tools.initRepeat, creator.Individual, \n",
    "    toolbox.attr_bool, n_weights)\n",
    "toolbox.register(\"population\", tools.initRepeat, list, toolbox.individual)\n",
    "toolbox.register(\"mutate\", tools.mutGaussian, mu=0, sigma=1, indpb=0.2)\n",
    "toolbox.register(\"select\", tools.selTournament, tournsize=3)\n",
    "#toolbox.register(\"evaluate\", evalAlgorithm)"
   ]
  },
  {
   "cell_type": "code",
   "execution_count": 37,
   "metadata": {},
   "outputs": [],
   "source": [
    "# Initialise individual\n",
    "ind = toolbox.individual()\n",
    "\n",
    "# Evolve game\n",
    "for i in range(10):\n",
    "    ind.gameInstance.move(np.random.randint(0,4))"
   ]
  },
  {
   "cell_type": "code",
   "execution_count": 40,
   "metadata": {},
   "outputs": [],
   "source": [
    "''' F1 '''\n",
    "# f1 : Feature f1 is 1, if tile with maximum value is on one of the corners in a \n",
    "# given state. Otherwise, it is 0.\n",
    "def f1(individual):\n",
    "    flat_grid = individual.gameInstance.grid.flatten()\n",
    "\n",
    "    maxvalue = max(flat_grid)\n",
    "    for i,value in enumerate(flat_grid):\n",
    "        if value == maxvalue and i in [0,3,11,15]:\n",
    "            return 1\n",
    "    return 0\n",
    "\n",
    "''' F2 '''\n",
    "# Feature f2 is 1, if second or third highest value tile is next to highest\n",
    "# value tile. Otherwise, it is 0.\n",
    "def f2(individual):\n",
    "    maxval = max(individual.gameInstance.grid.flatten())\n",
    "    if maxval==2: return 0\n",
    "\n",
    "    if maxval==4:\n",
    "        maxvalues = [4,2]\n",
    "    else:\n",
    "        maxvalues = [maxval, maxval//2, maxval//4]\n",
    "\n",
    "    for row in range(4):\n",
    "        for column in range(4):\n",
    "            val = individual.gameInstance.grid[row,column]\n",
    "            if val == maxval:\n",
    "                # # Check above\n",
    "                # if column-1 >= 0 and individual.gameInstance.grid[row,column-1] in maxvalues:\n",
    "                #     return 1\n",
    "\n",
    "                # Check right\n",
    "                if row+1 <= 3 and individual.gameInstance.grid[row+1,column] in maxvalues:\n",
    "                    return 1\n",
    "\n",
    "                # # Check below\n",
    "                # if column+1 <= 3 and individual.gameInstance.grid[row,column+1] in maxvalues:\n",
    "                #     return 1\n",
    "\n",
    "                # Check left\n",
    "                if row-1 >= 0 and individual.gameInstance.grid[row-1,column] in maxvalues:\n",
    "                    return 1\n",
    "    return 0\n",
    "\n",
    "''' F3 '''\n",
    "# Sum of total changes \n",
    "def f3(individual, newstate):\n",
    "    return 16-sum(individual.gameInstance.grid.flatten() == newstate.flatten())\n",
    "\n",
    "''' F4 '''\n",
    "# Number of non-empty cells in the given state of the board.\n",
    "def f4(individual):\n",
    "    return sum([i for i in individual.gameInstance.grid.flatten() if i != 0])\n",
    "\n",
    "''' F5 '''\n",
    "# How many out of selected cells in the given state have equal neighbors.\n",
    "def f5(individual):\n",
    "    counter = 0\n",
    "    for row in range(4):\n",
    "        for column in range(4):\n",
    "            val = individual.gameInstance.grid[row,column]\n",
    "            # Check right\n",
    "            if row+1 <= 3 and individual.gameInstance.grid[row+1,column] == val:\n",
    "                counter += 1\n",
    "            # Check left\n",
    "            if row-1 >= 0 and individual.gameInstance.grid[row-1,column] == val:\n",
    "                counter += 1\n",
    "    return counter"
   ]
  },
  {
   "cell_type": "code",
   "execution_count": null,
   "metadata": {},
   "outputs": [],
   "source": [
    "# The evaluation function\n",
    "def evalAlgorithm(individual):\n",
    "    \n",
    "    return"
   ]
  },
  {
   "cell_type": "code",
   "execution_count": null,
   "metadata": {},
   "outputs": [],
   "source": [
    "def main():\n",
    "    \n",
    "    # Build the individual\n",
    "    ind1 = toolbox.individual()\n",
    "    \n",
    "    # Create the population\n",
    "    population = toolbox.population(population_size)\n",
    "    \n",
    "    # Keep track of the no. of generations\n",
    "    generations = 0\n",
    "    \n",
    "    # Begin evolution\n",
    "    while generations < 2000:\n",
    "                \n",
    "        # Selection\n",
    "        selected = toolbox.select(population, len(population))\n",
    "        offspring = [toolbox.clone(ind) for ind in selected]\n",
    "        \n",
    "        # Mutation\n",
    "        mutant = toolbox.clone(offspring)\n",
    "        ind2, = tools.mutGaussian(mutant, mu=0.0, sigma=0.2, indpb=0.2)\n",
    "        del mutant.fitness.values  \n",
    "\n",
    "        # Crossover\n",
    "        child1, child2 = [toolbox.clone(ind) for ind in zip(offspring[::2], offspring[1::2])]\n",
    "        tools.cxBlend(child1, child2, 0.5)\n",
    "        del child1.fitness.values\n",
    "        del child2.fitness.values\n",
    "\n",
    "    \n",
    "        # Evaluate fitness \n",
    "        ind1.fitness.values = evalAlgorithm(ind1)\n",
    "            \n",
    "        pop[:] = offspring\n",
    "        \n",
    "\n",
    "        \n",
    "    \n",
    "        best = pop[np.argmin([toolbox.evaluate(x) for x in pop])]\n",
    "        \n",
    "        # Increment the generation counter\n",
    "        generations += 1    \n",
    "    \n",
    "    return best\n",
    "    "
   ]
  },
  {
   "cell_type": "code",
   "execution_count": null,
   "metadata": {},
   "outputs": [],
   "source": [
    "run_algorithm = main()"
   ]
  },
  {
   "cell_type": "code",
   "execution_count": null,
   "metadata": {},
   "outputs": [],
   "source": [
    "# Start 2048 game\n",
    "game_sample = game.Game(print_game=True)"
   ]
  },
  {
   "cell_type": "code",
   "execution_count": null,
   "metadata": {},
   "outputs": [],
   "source": [
    "# Move down\n",
    "game_sample.move(0)"
   ]
  }
 ],
 "metadata": {
  "interpreter": {
   "hash": "5e6287943902282500ed5c964013c99e9c76275c678ef26cd22dd41070ff3dbe"
  },
  "kernelspec": {
   "display_name": "Python 3",
   "language": "python",
   "name": "python3"
  },
  "language_info": {
   "codemirror_mode": {
    "name": "ipython",
    "version": 3
   },
   "file_extension": ".py",
   "mimetype": "text/x-python",
   "name": "python",
   "nbconvert_exporter": "python",
   "pygments_lexer": "ipython3",
   "version": "3.5.6"
  }
 },
 "nbformat": 4,
 "nbformat_minor": 2
}
