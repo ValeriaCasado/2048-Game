{
 "cells": [
  {
   "cell_type": "code",
   "execution_count": 12,
   "metadata": {},
   "outputs": [],
   "source": [
    "import numpy as np\n",
    "from scipy import ndimage, misc\n",
    "from deap import base\n",
    "from deap import creator\n",
    "from deap import tools\n",
    "import game"
   ]
  },
  {
   "cell_type": "code",
   "execution_count": 8,
   "metadata": {},
   "outputs": [],
   "source": [
    "n_weights = 9\n",
    "population_size = 10"
   ]
  },
  {
   "cell_type": "code",
   "execution_count": 9,
   "metadata": {},
   "outputs": [
    {
     "name": "stderr",
     "output_type": "stream",
     "text": [
      "C:\\Users\\44741\\anaconda3\\envs\\NIC\\lib\\site-packages\\deap\\creator.py:141: RuntimeWarning: A class named 'FitnessMin' has already been created and it will be overwritten. Consider deleting previous creation of that class or rename it.\n",
      "  RuntimeWarning)\n",
      "C:\\Users\\44741\\anaconda3\\envs\\NIC\\lib\\site-packages\\deap\\creator.py:141: RuntimeWarning: A class named 'Individual' has already been created and it will be overwritten. Consider deleting previous creation of that class or rename it.\n",
      "  RuntimeWarning)\n"
     ]
    }
   ],
   "source": [
    "''' DEAP SETUP '''\n",
    "creator.create(\"FitnessMin\", base.Fitness, weights=(-1.0,))\n",
    "creator.create(\"Individual\", list, fitness=creator.FitnessMin)\n",
    "\n",
    "toolbox = base.Toolbox()\n",
    "toolbox.register(\"attr_bool\", np.random.uniform, 0, 1)\n",
    "toolbox.register(\"individual\", tools.initRepeat, creator.Individual, \n",
    "    toolbox.attr_bool, n_weights)\n",
    "toolbox.register(\"population\", tools.initRepeat, list, toolbox.individual)\n",
    "toolbox.register(\"mutate\", tools.mutGaussian, mu=0, sigma=1, indpb=0.2)\n",
    "toolbox.register(\"select\", tools.selTournament, tournsize=3)\n",
    "toolbox.register(\"evaluate\", evalAlgorithm)"
   ]
  },
  {
   "cell_type": "code",
   "execution_count": null,
   "metadata": {},
   "outputs": [],
   "source": [
    "# The evaluation function\n",
    "def evalAlgorithm(individual):\n",
    "    \n",
    "    return"
   ]
  },
  {
   "cell_type": "code",
   "execution_count": 11,
   "metadata": {},
   "outputs": [
    {
     "data": {
      "text/plain": [
       "[0.7912074744682034,\n",
       " 0.43401511522115077,\n",
       " 0.3155731125801652,\n",
       " 0.16989018702282233,\n",
       " 0.9771363152171468,\n",
       " 0.23122138611847864,\n",
       " 0.41377201168195554,\n",
       " 0.9712181101827779,\n",
       " 0.8785046965188444]"
      ]
     },
     "execution_count": 11,
     "metadata": {},
     "output_type": "execute_result"
    }
   ],
   "source": [
    "def main():\n",
    "    \n",
    "    # Build the individual\n",
    "    ind1 = toolbox.individual()\n",
    "    \n",
    "    # Create the population\n",
    "    population = toolbox.population(population_size)\n",
    "    \n",
    "    # Keep track of the no. of generations\n",
    "    generations = 0\n",
    "    \n",
    "    # Begin evolution\n",
    "    while generations < 2000:\n",
    "                \n",
    "        # Selection\n",
    "        selected = toolbox.select(population, len(population))\n",
    "        offspring = [toolbox.clone(ind) for ind in selected]\n",
    "        \n",
    "        # Mutation\n",
    "        mutant = toolbox.clone(offspring)\n",
    "        ind2, = tools.mutGaussian(mutant, mu=0.0, sigma=0.2, indpb=0.2)\n",
    "        del mutant.fitness.values  \n",
    "\n",
    "        # Crossover\n",
    "        child1, child2 = [toolbox.clone(ind) for ind in zip(offspring[::2], offspring[1::2])]\n",
    "        tools.cxBlend(child1, child2, 0.5)\n",
    "        del child1.fitness.values\n",
    "        del child2.fitness.values\n",
    "\n",
    "    \n",
    "        # Evaluate fitness \n",
    "        ind1.fitness.values = evalAlgorithm(ind1)\n",
    "            \n",
    "        pop[:] = offspring\n",
    "        \n",
    "\n",
    "        \n",
    "    \n",
    "        best = pop[np.argmin([toolbox.evaluate(x) for x in pop])]\n",
    "        \n",
    "        # Increment the generation counter\n",
    "        generations += 1    \n",
    "    \n",
    "    return best\n",
    "    "
   ]
  },
  {
   "cell_type": "code",
   "execution_count": null,
   "metadata": {},
   "outputs": [],
   "source": [
    "run_algorithm = main()"
   ]
  },
  {
   "cell_type": "code",
   "execution_count": 16,
   "metadata": {},
   "outputs": [
    {
     "name": "stdout",
     "output_type": "stream",
     "text": [
      "[[0 0 0 2]\n",
      " [0 0 0 0]\n",
      " [0 0 0 0]\n",
      " [0 0 0 2]]\n"
     ]
    }
   ],
   "source": [
    "# Start 2048 game\n",
    "game_sample = game.Game(print_game=True)"
   ]
  },
  {
   "cell_type": "code",
   "execution_count": 17,
   "metadata": {},
   "outputs": [
    {
     "name": "stdout",
     "output_type": "stream",
     "text": [
      "[[2 0 0 0]\n",
      " [0 0 0 0]\n",
      " [0 0 0 0]\n",
      " [0 0 0 4]]\n"
     ]
    }
   ],
   "source": [
    "# Move down\n",
    "game_sample.move(0)"
   ]
  }
 ],
 "metadata": {
  "interpreter": {
   "hash": "5e6287943902282500ed5c964013c99e9c76275c678ef26cd22dd41070ff3dbe"
  },
  "kernelspec": {
   "display_name": "Python 3",
   "language": "python",
   "name": "python3"
  },
  "language_info": {
   "codemirror_mode": {
    "name": "ipython",
    "version": 3
   },
   "file_extension": ".py",
   "mimetype": "text/x-python",
   "name": "python",
   "nbconvert_exporter": "python",
   "pygments_lexer": "ipython3",
   "version": "3.8.8"
  }
 },
 "nbformat": 4,
 "nbformat_minor": 2
}
